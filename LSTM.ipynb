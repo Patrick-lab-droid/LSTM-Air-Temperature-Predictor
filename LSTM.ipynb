{
 "cells": [
  {
   "cell_type": "markdown",
   "metadata": {
    "id": "KWifGde-KPnZ"
   },
   "source": [
    "# Libraries"
   ]
  },
  {
   "cell_type": "code",
   "execution_count": null,
   "metadata": {
    "execution": {
     "iopub.execute_input": "2025-06-27T13:44:22.740215Z",
     "iopub.status.busy": "2025-06-27T13:44:22.739842Z",
     "iopub.status.idle": "2025-06-27T13:44:22.752364Z",
     "shell.execute_reply": "2025-06-27T13:44:22.751712Z",
     "shell.execute_reply.started": "2025-06-27T13:44:22.740181Z"
    },
    "id": "sgiBUhA3tEia",
    "trusted": true
   },
   "outputs": [],
   "source": [
    "import pandas as pd\n",
    "import numpy as np\n",
    "import matplotlib.pyplot as plt\n",
    "import seaborn as sns\n",
    "import matplotlib.dates as mdates\n",
    "\n",
    "import tensorflow as tf\n",
    "from sklearn.preprocessing import MinMaxScaler\n",
    "from tensorflow.keras.models import Sequential\n",
    "from tensorflow.keras.layers import LSTM, Dense, Dropout, BatchNormalization\n",
    "from tensorflow.keras.optimizers import Adam\n",
    "from tensorflow.keras.callbacks import EarlyStopping, ReduceLROnPlateau, ModelCheckpoint\n",
    "from sklearn.metrics import mean_squared_error, r2_score, mean_absolute_error\n",
    "import warnings\n",
    "warnings.filterwarnings(\"ignore\")\n",
    "\n",
    "tf.random.set_seed(42)\n",
    "np.random.seed(42)"
   ]
  },
  {
   "cell_type": "markdown",
   "metadata": {
    "id": "9kbv-y6FKSvH"
   },
   "source": [
    "# EDA"
   ]
  },
  {
   "cell_type": "code",
   "execution_count": null,
   "metadata": {
    "execution": {
     "iopub.execute_input": "2025-06-27T13:44:22.753847Z",
     "iopub.status.busy": "2025-06-27T13:44:22.753553Z",
     "iopub.status.idle": "2025-06-27T13:44:22.915196Z",
     "shell.execute_reply": "2025-06-27T13:44:22.914466Z",
     "shell.execute_reply.started": "2025-06-27T13:44:22.753813Z"
    },
    "id": "oRkZG13ruU03",
    "outputId": "7daf68fb-06b0-48b7-ddc9-5e67aa28946f",
    "trusted": true
   },
   "outputs": [],
   "source": [
    "df = pd.read_csv(\"/kaggle/input/lstm/AP003.csv\")\n",
    "df.head(5)"
   ]
  },
  {
   "cell_type": "code",
   "execution_count": null,
   "metadata": {
    "execution": {
     "iopub.execute_input": "2025-06-27T13:44:22.916800Z",
     "iopub.status.busy": "2025-06-27T13:44:22.916554Z",
     "iopub.status.idle": "2025-06-27T13:44:22.933988Z",
     "shell.execute_reply": "2025-06-27T13:44:22.933136Z",
     "shell.execute_reply.started": "2025-06-27T13:44:22.916784Z"
    },
    "id": "GC_nWxbiuceO",
    "outputId": "15c7291e-034b-4d7c-cacc-1514a6e9e3bf",
    "trusted": true
   },
   "outputs": [],
   "source": [
    "df.info()"
   ]
  },
  {
   "cell_type": "code",
   "execution_count": null,
   "metadata": {
    "execution": {
     "iopub.execute_input": "2025-06-27T13:44:22.935119Z",
     "iopub.status.busy": "2025-06-27T13:44:22.934867Z",
     "iopub.status.idle": "2025-06-27T13:44:22.945876Z",
     "shell.execute_reply": "2025-06-27T13:44:22.945281Z",
     "shell.execute_reply.started": "2025-06-27T13:44:22.935077Z"
    },
    "id": "4QqC-WFKyWRR",
    "trusted": true
   },
   "outputs": [],
   "source": [
    "num_cols = df.select_dtypes(include=np.number).columns\n",
    "cat_cols = df.select_dtypes(include=\"object\").columns"
   ]
  },
  {
   "cell_type": "code",
   "execution_count": null,
   "metadata": {
    "execution": {
     "iopub.execute_input": "2025-06-27T13:44:22.947738Z",
     "iopub.status.busy": "2025-06-27T13:44:22.947448Z",
     "iopub.status.idle": "2025-06-27T13:44:22.974842Z",
     "shell.execute_reply": "2025-06-27T13:44:22.974292Z",
     "shell.execute_reply.started": "2025-06-27T13:44:22.947716Z"
    },
    "id": "d158eco2-j10",
    "trusted": true
   },
   "outputs": [],
   "source": [
    "df['From Date'] = pd.to_datetime(df['From Date'])\n",
    "df = df.set_index('From Date')"
   ]
  },
  {
   "cell_type": "code",
   "execution_count": null,
   "metadata": {
    "execution": {
     "iopub.execute_input": "2025-06-27T13:44:22.975590Z",
     "iopub.status.busy": "2025-06-27T13:44:22.975416Z",
     "iopub.status.idle": "2025-06-27T13:44:22.998375Z",
     "shell.execute_reply": "2025-06-27T13:44:22.997809Z",
     "shell.execute_reply.started": "2025-06-27T13:44:22.975577Z"
    },
    "id": "uATaOUrdKCnd",
    "outputId": "2addf201-bb77-4755-d32a-97a42225d512",
    "trusted": true
   },
   "outputs": [],
   "source": [
    "df.isna().sum()"
   ]
  },
  {
   "cell_type": "code",
   "execution_count": null,
   "metadata": {
    "execution": {
     "iopub.execute_input": "2025-06-27T13:44:22.999640Z",
     "iopub.status.busy": "2025-06-27T13:44:22.999286Z",
     "iopub.status.idle": "2025-06-27T13:44:23.100734Z",
     "shell.execute_reply": "2025-06-27T13:44:23.100141Z",
     "shell.execute_reply.started": "2025-06-27T13:44:22.999622Z"
    },
    "id": "-I64Q3ZR4i0Z",
    "outputId": "82284b5e-d6ca-4637-f36e-557d637969c7",
    "trusted": true
   },
   "outputs": [],
   "source": [
    "df[num_cols] = df[num_cols].interpolate(method='time').fillna(method='ffill').fillna(method='bfill')"
   ]
  },
  {
   "cell_type": "code",
   "execution_count": null,
   "metadata": {
    "execution": {
     "iopub.execute_input": "2025-06-27T13:44:23.101777Z",
     "iopub.status.busy": "2025-06-27T13:44:23.101456Z",
     "iopub.status.idle": "2025-06-27T13:44:23.115134Z",
     "shell.execute_reply": "2025-06-27T13:44:23.114265Z",
     "shell.execute_reply.started": "2025-06-27T13:44:23.101751Z"
    },
    "id": "JK2-Eklmb_PE",
    "outputId": "3a6096f1-3e10-488e-a62e-88d6a2964d54",
    "trusted": true
   },
   "outputs": [],
   "source": [
    "df.isna().sum().sum()"
   ]
  },
  {
   "cell_type": "code",
   "execution_count": null,
   "metadata": {
    "execution": {
     "iopub.execute_input": "2025-06-27T13:44:23.116067Z",
     "iopub.status.busy": "2025-06-27T13:44:23.115857Z",
     "iopub.status.idle": "2025-06-27T13:44:23.132106Z",
     "shell.execute_reply": "2025-06-27T13:44:23.131338Z",
     "shell.execute_reply.started": "2025-06-27T13:44:23.116050Z"
    },
    "id": "rO-WCpgN6pu1",
    "trusted": true
   },
   "outputs": [],
   "source": [
    "df = df.drop('To Date', axis = 1)"
   ]
  },
  {
   "cell_type": "code",
   "execution_count": null,
   "metadata": {
    "execution": {
     "iopub.execute_input": "2025-06-27T13:44:23.133738Z",
     "iopub.status.busy": "2025-06-27T13:44:23.132930Z",
     "iopub.status.idle": "2025-06-27T13:44:23.168325Z",
     "shell.execute_reply": "2025-06-27T13:44:23.167732Z",
     "shell.execute_reply.started": "2025-06-27T13:44:23.133709Z"
    },
    "id": "imbchbnjJq9O",
    "outputId": "788735f3-e05a-44d4-b533-5184f30b0a08",
    "trusted": true
   },
   "outputs": [],
   "source": [
    "df[df.duplicated()].sum()"
   ]
  },
  {
   "cell_type": "code",
   "execution_count": null,
   "metadata": {
    "execution": {
     "iopub.execute_input": "2025-06-27T13:44:23.171325Z",
     "iopub.status.busy": "2025-06-27T13:44:23.171136Z",
     "iopub.status.idle": "2025-06-27T13:44:28.945203Z",
     "shell.execute_reply": "2025-06-27T13:44:28.943969Z",
     "shell.execute_reply.started": "2025-06-27T13:44:23.171311Z"
    },
    "id": "e8-SCGIP_UWB",
    "outputId": "d95b2d76-64c4-489b-c708-dabbf8e1d747",
    "trusted": true
   },
   "outputs": [],
   "source": [
    "df_daily = df[num_cols].resample('D').mean()\n",
    "\n",
    "axes = df_daily.plot(subplots=True, figsize=(14, 2 * len(num_cols)))\n",
    "plt.suptitle('Daily Trends (2017–2023)', fontsize=16)\n",
    "plt.tight_layout()\n",
    "\n",
    "for ax in axes:\n",
    "    ax.legend(loc='upper right')\n"
   ]
  },
  {
   "cell_type": "code",
   "execution_count": null,
   "metadata": {
    "execution": {
     "iopub.execute_input": "2025-06-27T13:44:28.946363Z",
     "iopub.status.busy": "2025-06-27T13:44:28.946164Z",
     "iopub.status.idle": "2025-06-27T13:44:36.198430Z",
     "shell.execute_reply": "2025-06-27T13:44:36.197241Z",
     "shell.execute_reply.started": "2025-06-27T13:44:28.946346Z"
    },
    "id": "i1B739Of_Uqd",
    "outputId": "4fcf3007-f963-40b7-d433-73aa260041c3",
    "trusted": true
   },
   "outputs": [],
   "source": [
    "data = df[df.index >= '2021-01-01'].resample('D').mean()\n",
    "\n",
    "year_bounds = pd.date_range(start='2021-01-01', end=data.index.max(), freq='YS')\n",
    "\n",
    "fig, axes = plt.subplots(len(num_cols), 1, figsize=(14, 3 * len(num_cols)), sharex=False)\n",
    "\n",
    "for i, feature in enumerate(num_cols):\n",
    "    ax = axes[i]\n",
    "    data[feature].plot(ax=ax)\n",
    "    ax.set_title(f'Daily Avg of {feature} (2021–{data.index.max().year})')\n",
    "    ax.set_ylabel(feature)\n",
    "\n",
    "    for year_start in year_bounds:\n",
    "        ax.axvline(year_start, color='red', linestyle='--', linewidth=1)\n",
    "\n",
    "    ax.xaxis.set_major_locator(mdates.MonthLocator())\n",
    "    ax.xaxis.set_major_formatter(mdates.DateFormatter('%b'))\n",
    "    ax.tick_params(axis='x')\n",
    "\n",
    "plt.tight_layout()\n",
    "plt.show()\n"
   ]
  },
  {
   "cell_type": "code",
   "execution_count": null,
   "metadata": {
    "execution": {
     "iopub.execute_input": "2025-06-27T13:44:36.199837Z",
     "iopub.status.busy": "2025-06-27T13:44:36.199525Z",
     "iopub.status.idle": "2025-06-27T13:44:37.065508Z",
     "shell.execute_reply": "2025-06-27T13:44:37.064643Z",
     "shell.execute_reply.started": "2025-06-27T13:44:36.199808Z"
    },
    "id": "jsLOX8IzSHL1",
    "outputId": "62f3eaf6-5b15-4724-cc88-e42f1b9b4293",
    "trusted": true
   },
   "outputs": [],
   "source": [
    "corr = df[num_cols].corr()\n",
    "\n",
    "mask = np.triu(np.ones_like(corr, dtype=bool), k=1)\n",
    "\n",
    "plt.figure(figsize=(12, 10))\n",
    "sns.heatmap(corr, mask=mask, annot=True, cmap='coolwarm', fmt=\".2f\", square=True)\n",
    "plt.title('Correlation of each variables', fontsize=12)\n",
    "plt.xticks(rotation=90)\n",
    "plt.tight_layout()\n",
    "plt.show()"
   ]
  },
  {
   "cell_type": "markdown",
   "metadata": {
    "id": "8NswEinlKV_u"
   },
   "source": [
    "# Preprocessing"
   ]
  },
  {
   "cell_type": "code",
   "execution_count": null,
   "metadata": {
    "execution": {
     "iopub.execute_input": "2025-06-27T13:44:37.066463Z",
     "iopub.status.busy": "2025-06-27T13:44:37.066283Z",
     "iopub.status.idle": "2025-06-27T13:44:37.222165Z",
     "shell.execute_reply": "2025-06-27T13:44:37.221425Z",
     "shell.execute_reply.started": "2025-06-27T13:44:37.066450Z"
    },
    "id": "rH8DUMPMBPWb",
    "outputId": "6c85104c-e706-4cc5-d05f-274db3480ec8",
    "trusted": true
   },
   "outputs": [],
   "source": [
    "df_model = pd.read_csv('/kaggle/input/uas-dl-lstm/AP003.csv')\n",
    "df_model"
   ]
  },
  {
   "cell_type": "code",
   "execution_count": null,
   "metadata": {
    "execution": {
     "iopub.execute_input": "2025-06-27T13:44:37.223727Z",
     "iopub.status.busy": "2025-06-27T13:44:37.223008Z",
     "iopub.status.idle": "2025-06-27T13:44:37.242483Z",
     "shell.execute_reply": "2025-06-27T13:44:37.241623Z",
     "shell.execute_reply.started": "2025-06-27T13:44:37.223706Z"
    },
    "id": "FxYlYctD2GlN",
    "outputId": "6be817b2-b159-4bf3-bea4-16c4bd25cecb",
    "trusted": true
   },
   "outputs": [],
   "source": [
    "df_model.set_index('From Date', inplace=True)\n",
    "df_model = df_model.drop(['To Date', 'VWS (m/s)', 'Xylene (ug/m3)', 'RF (mm)', 'NH3 (ug/m3)', 'SO2 (ug/m3)', 'Temp (degree C)','BP (mmHg)'], axis = 1)\n",
    "df_model.head(5)"
   ]
  },
  {
   "cell_type": "markdown",
   "metadata": {
    "id": "gzH2fPNHT-ei"
   },
   "source": [
    "## Splitting the data"
   ]
  },
  {
   "cell_type": "code",
   "execution_count": null,
   "metadata": {
    "execution": {
     "iopub.execute_input": "2025-06-27T13:44:37.243602Z",
     "iopub.status.busy": "2025-06-27T13:44:37.243346Z",
     "iopub.status.idle": "2025-06-27T13:44:37.247974Z",
     "shell.execute_reply": "2025-06-27T13:44:37.247143Z",
     "shell.execute_reply.started": "2025-06-27T13:44:37.243579Z"
    },
    "id": "jf2BnuiYSCp6",
    "trusted": true
   },
   "outputs": [],
   "source": [
    "n_samples = len(df_model)\n",
    "train_end = int(n_samples * 0.8)\n",
    "val_end = int(n_samples * 0.9)"
   ]
  },
  {
   "cell_type": "code",
   "execution_count": null,
   "metadata": {
    "execution": {
     "iopub.execute_input": "2025-06-27T13:44:37.249274Z",
     "iopub.status.busy": "2025-06-27T13:44:37.248966Z",
     "iopub.status.idle": "2025-06-27T13:44:37.267131Z",
     "shell.execute_reply": "2025-06-27T13:44:37.266372Z",
     "shell.execute_reply.started": "2025-06-27T13:44:37.249250Z"
    },
    "id": "TPdtlciiXHdV",
    "trusted": true
   },
   "outputs": [],
   "source": [
    "train = df_model.iloc[:train_end].copy()\n",
    "val = df_model.iloc[train_end:val_end].copy()\n",
    "test = df_model.iloc[val_end:].copy()"
   ]
  },
  {
   "cell_type": "code",
   "execution_count": null,
   "metadata": {
    "execution": {
     "iopub.execute_input": "2025-06-27T13:44:37.268188Z",
     "iopub.status.busy": "2025-06-27T13:44:37.267942Z",
     "iopub.status.idle": "2025-06-27T13:44:37.281938Z",
     "shell.execute_reply": "2025-06-27T13:44:37.281427Z",
     "shell.execute_reply.started": "2025-06-27T13:44:37.268172Z"
    },
    "id": "2g6wY4N3XLul",
    "outputId": "3482490a-4d3a-4a68-9b8a-56200451adde",
    "trusted": true
   },
   "outputs": [],
   "source": [
    "print(f\"Training set: {len(train)}\")\n",
    "print(f\"Validation set: {len(val)}\")\n",
    "print(f\"Test set: {len(test)}\")"
   ]
  },
  {
   "cell_type": "markdown",
   "metadata": {
    "id": "XKY1ZasPX1B6"
   },
   "source": [
    "## Filling NaN"
   ]
  },
  {
   "cell_type": "code",
   "execution_count": null,
   "metadata": {
    "execution": {
     "iopub.execute_input": "2025-06-27T13:44:37.283050Z",
     "iopub.status.busy": "2025-06-27T13:44:37.282624Z",
     "iopub.status.idle": "2025-06-27T13:44:37.361241Z",
     "shell.execute_reply": "2025-06-27T13:44:37.360444Z",
     "shell.execute_reply.started": "2025-06-27T13:44:37.283028Z"
    },
    "id": "z8hCFK0gXOUw",
    "outputId": "c36cbe63-9be6-4187-801c-6ed555bf00a9",
    "trusted": true
   },
   "outputs": [],
   "source": [
    "train_clean = train.interpolate(method='linear', limit_direction='both')\n",
    "train_clean = train_clean.fillna(method='ffill').fillna(method='bfill')\n",
    "\n",
    "val_clean = val.interpolate(method='linear', limit_direction='both')\n",
    "val_clean = val_clean.fillna(method='ffill').fillna(method='bfill')\n",
    "\n",
    "test_clean = test.interpolate(method='linear', limit_direction='both')\n",
    "test_clean = test_clean.fillna(method='ffill').fillna(method='bfill')"
   ]
  },
  {
   "cell_type": "code",
   "execution_count": null,
   "metadata": {
    "execution": {
     "iopub.execute_input": "2025-06-27T13:44:37.362317Z",
     "iopub.status.busy": "2025-06-27T13:44:37.362060Z",
     "iopub.status.idle": "2025-06-27T13:44:37.366034Z",
     "shell.execute_reply": "2025-06-27T13:44:37.365285Z",
     "shell.execute_reply.started": "2025-06-27T13:44:37.362295Z"
    },
    "id": "xMSNC22Vd_MT",
    "trusted": true
   },
   "outputs": [],
   "source": [
    "col_name_x = train_clean.columns\n",
    "\n",
    "train_idx = train_clean.index\n",
    "test_idx = test_clean.index\n",
    "val_idx = val_clean.index"
   ]
  },
  {
   "cell_type": "markdown",
   "metadata": {},
   "source": [
    "## Scaling"
   ]
  },
  {
   "cell_type": "code",
   "execution_count": null,
   "metadata": {
    "execution": {
     "iopub.execute_input": "2025-06-27T13:44:37.367071Z",
     "iopub.status.busy": "2025-06-27T13:44:37.366851Z",
     "iopub.status.idle": "2025-06-27T13:44:37.401411Z",
     "shell.execute_reply": "2025-06-27T13:44:37.400773Z",
     "shell.execute_reply.started": "2025-06-27T13:44:37.367057Z"
    },
    "id": "820k4RQOagok",
    "trusted": true
   },
   "outputs": [],
   "source": [
    "scaler = MinMaxScaler()\n",
    "train_scaled = scaler.fit_transform(train_clean)\n",
    "val_scaled = scaler.transform(val_clean)\n",
    "test_scaled = scaler.transform(test_clean)"
   ]
  },
  {
   "cell_type": "code",
   "execution_count": null,
   "metadata": {
    "execution": {
     "iopub.execute_input": "2025-06-27T13:44:37.402774Z",
     "iopub.status.busy": "2025-06-27T13:44:37.402235Z",
     "iopub.status.idle": "2025-06-27T13:44:37.406620Z",
     "shell.execute_reply": "2025-06-27T13:44:37.405913Z",
     "shell.execute_reply.started": "2025-06-27T13:44:37.402756Z"
    },
    "id": "TGkrCANEd59r",
    "trusted": true
   },
   "outputs": [],
   "source": [
    "train_scaled_df = pd.DataFrame(train_scaled, columns=col_name_x, index=train_idx)\n",
    "val_scaled_df = pd.DataFrame(val_scaled, columns=col_name_x, index=val_idx)\n",
    "test_scaled_df = pd.DataFrame(test_scaled, columns=col_name_x, index=test_idx)"
   ]
  },
  {
   "cell_type": "code",
   "execution_count": null,
   "metadata": {
    "execution": {
     "iopub.execute_input": "2025-06-27T13:44:37.407885Z",
     "iopub.status.busy": "2025-06-27T13:44:37.407406Z",
     "iopub.status.idle": "2025-06-27T13:44:37.427574Z",
     "shell.execute_reply": "2025-06-27T13:44:37.427023Z",
     "shell.execute_reply.started": "2025-06-27T13:44:37.407867Z"
    },
    "id": "MJ2WXvQqbPHs",
    "trusted": true
   },
   "outputs": [],
   "source": [
    "target_column = 'AT (degree C)'\n",
    "lookback = 5\n",
    "forecast = 1"
   ]
  },
  {
   "cell_type": "markdown",
   "metadata": {},
   "source": [
    "## Sequencing"
   ]
  },
  {
   "cell_type": "code",
   "execution_count": null,
   "metadata": {
    "execution": {
     "iopub.execute_input": "2025-06-27T13:44:37.428507Z",
     "iopub.status.busy": "2025-06-27T13:44:37.428291Z",
     "iopub.status.idle": "2025-06-27T13:44:39.343837Z",
     "shell.execute_reply": "2025-06-27T13:44:39.343243Z",
     "shell.execute_reply.started": "2025-06-27T13:44:37.428492Z"
    },
    "id": "uptkKzizdrSi",
    "trusted": true
   },
   "outputs": [],
   "source": [
    "X_train, y_train = [], []\n",
    "target_idx = col_name_x.get_loc(target_column)\n",
    "\n",
    "for i in range(lookback, len(train_scaled_df) - forecast + 1):\n",
    "    X_train.append(train_scaled_df.iloc[i-lookback:i].values)\n",
    "    y_train.append(train_scaled_df.iloc[i + forecast - 1, target_idx])\n",
    "\n",
    "X_train = np.array(X_train)\n",
    "y_train = np.array(y_train)"
   ]
  },
  {
   "cell_type": "code",
   "execution_count": null,
   "metadata": {
    "execution": {
     "iopub.execute_input": "2025-06-27T13:44:39.344842Z",
     "iopub.status.busy": "2025-06-27T13:44:39.344596Z",
     "iopub.status.idle": "2025-06-27T13:44:39.586588Z",
     "shell.execute_reply": "2025-06-27T13:44:39.586078Z",
     "shell.execute_reply.started": "2025-06-27T13:44:39.344822Z"
    },
    "id": "grmx5Z3de0b8",
    "trusted": true
   },
   "outputs": [],
   "source": [
    "X_val, y_val = [], []\n",
    "\n",
    "for i in range(lookback, len(val_scaled_df) - forecast + 1):\n",
    "    X_val.append(val_scaled_df.iloc[i-lookback:i].values)\n",
    "    y_val.append(val_scaled_df.iloc[i + forecast - 1, target_idx])\n",
    "\n",
    "X_val = np.array(X_val)\n",
    "y_val = np.array(y_val)"
   ]
  },
  {
   "cell_type": "code",
   "execution_count": null,
   "metadata": {
    "execution": {
     "iopub.execute_input": "2025-06-27T13:44:39.587391Z",
     "iopub.status.busy": "2025-06-27T13:44:39.587208Z",
     "iopub.status.idle": "2025-06-27T13:44:39.918039Z",
     "shell.execute_reply": "2025-06-27T13:44:39.917561Z",
     "shell.execute_reply.started": "2025-06-27T13:44:39.587376Z"
    },
    "id": "Wy0pYpO_e2xw",
    "trusted": true
   },
   "outputs": [],
   "source": [
    "X_test, y_test = [], []\n",
    "\n",
    "for i in range(lookback, len(test_scaled_df) - forecast + 1):\n",
    "    X_test.append(test_scaled_df.iloc[i-lookback:i].values)\n",
    "    y_test.append(test_scaled_df.iloc[i + forecast - 1, target_idx])\n",
    "\n",
    "X_test = np.array(X_test)\n",
    "y_test = np.array(y_test)"
   ]
  },
  {
   "cell_type": "markdown",
   "metadata": {},
   "source": [
    "# Modelling"
   ]
  },
  {
   "cell_type": "markdown",
   "metadata": {},
   "source": [
    "## Base Model"
   ]
  },
  {
   "cell_type": "code",
   "execution_count": null,
   "metadata": {
    "execution": {
     "iopub.execute_input": "2025-06-27T14:03:37.253136Z",
     "iopub.status.busy": "2025-06-27T14:03:37.252844Z",
     "iopub.status.idle": "2025-06-27T14:03:37.284886Z",
     "shell.execute_reply": "2025-06-27T14:03:37.284147Z",
     "shell.execute_reply.started": "2025-06-27T14:03:37.253115Z"
    },
    "id": "Rtv6bx2Of1cL",
    "outputId": "db2232ed-c62a-4ca9-928a-86afdc998bc5",
    "trusted": true
   },
   "outputs": [],
   "source": [
    "base_model = Sequential([\n",
    "    LSTM(10, input_shape=(lookback, len(col_name_x)), return_sequences=False),\n",
    "    Dense(1, activation = 'linear')\n",
    "])"
   ]
  },
  {
   "cell_type": "code",
   "execution_count": null,
   "metadata": {
    "execution": {
     "iopub.execute_input": "2025-06-27T14:03:37.538742Z",
     "iopub.status.busy": "2025-06-27T14:03:37.538496Z",
     "iopub.status.idle": "2025-06-27T14:03:37.546807Z",
     "shell.execute_reply": "2025-06-27T14:03:37.546135Z",
     "shell.execute_reply.started": "2025-06-27T14:03:37.538724Z"
    },
    "id": "tqo7dn2mi2g3",
    "trusted": true
   },
   "outputs": [],
   "source": [
    "base_model.compile(\n",
    "    optimizer=Adam(learning_rate=0.001),\n",
    "    loss='mse',\n",
    "    metrics=['mae']\n",
    ")"
   ]
  },
  {
   "cell_type": "code",
   "execution_count": null,
   "metadata": {
    "collapsed": true,
    "execution": {
     "iopub.execute_input": "2025-06-27T14:03:37.786243Z",
     "iopub.status.busy": "2025-06-27T14:03:37.785742Z",
     "iopub.status.idle": "2025-06-27T14:06:20.775903Z",
     "shell.execute_reply": "2025-06-27T14:06:20.775359Z",
     "shell.execute_reply.started": "2025-06-27T14:03:37.786222Z"
    },
    "id": "kiwyisvvjSbV",
    "jupyter": {
     "outputs_hidden": true
    },
    "outputId": "489a7d1a-1238-4e88-abcb-d2449f9c91a4",
    "trusted": true
   },
   "outputs": [],
   "source": [
    "history_base = base_model.fit(\n",
    "    X_train, y_train,\n",
    "    epochs=30,\n",
    "    batch_size=32,\n",
    "    validation_data=(X_val, y_val),\n",
    "    verbose=1\n",
    ")\n"
   ]
  },
  {
   "cell_type": "code",
   "execution_count": null,
   "metadata": {
    "execution": {
     "iopub.execute_input": "2025-06-27T14:06:20.777632Z",
     "iopub.status.busy": "2025-06-27T14:06:20.777455Z",
     "iopub.status.idle": "2025-06-27T14:06:21.345636Z",
     "shell.execute_reply": "2025-06-27T14:06:21.345131Z",
     "shell.execute_reply.started": "2025-06-27T14:06:20.777617Z"
    },
    "id": "zz3Nc3uf2hv_",
    "trusted": true
   },
   "outputs": [],
   "source": [
    "y_pred_base = base_model.predict(X_test)"
   ]
  },
  {
   "cell_type": "code",
   "execution_count": null,
   "metadata": {
    "execution": {
     "iopub.execute_input": "2025-06-27T14:06:21.346801Z",
     "iopub.status.busy": "2025-06-27T14:06:21.346538Z",
     "iopub.status.idle": "2025-06-27T14:06:21.353166Z",
     "shell.execute_reply": "2025-06-27T14:06:21.352478Z",
     "shell.execute_reply.started": "2025-06-27T14:06:21.346778Z"
    },
    "id": "nb3Iu6FujuGP",
    "outputId": "3d4008d4-7e87-4cf7-cb8f-da315c698c0f",
    "trusted": true
   },
   "outputs": [],
   "source": [
    "mse = mean_squared_error(y_test, y_pred_base)\n",
    "rmse = np.sqrt(mse)\n",
    "mae = mean_absolute_error(y_test, y_pred_base)\n",
    "r2 = r2_score(y_test, y_pred_base)\n",
    "\n",
    "print(f\"MSE: {mse:.4f}\")\n",
    "print(f\"RMSE: {rmse:.4f}\")\n",
    "print(f\"MAE: {mae:.4f}\")\n",
    "print(f\"R²: {r2:.4f}\")"
   ]
  },
  {
   "cell_type": "code",
   "execution_count": null,
   "metadata": {
    "execution": {
     "iopub.execute_input": "2025-06-27T14:06:21.354974Z",
     "iopub.status.busy": "2025-06-27T14:06:21.354807Z",
     "iopub.status.idle": "2025-06-27T14:06:21.529729Z",
     "shell.execute_reply": "2025-06-27T14:06:21.529059Z",
     "shell.execute_reply.started": "2025-06-27T14:06:21.354961Z"
    },
    "trusted": true
   },
   "outputs": [],
   "source": [
    "train_loss = history_base.history['loss']\n",
    "val_loss = history_base.history['val_loss']\n",
    "plt.plot(train_loss,label=\"Train Loss\")\n",
    "plt.plot(val_loss,label='Val Loss')\n",
    "plt.title(\"Gradient Descent\")\n",
    "plt.xlabel(\"Epoch\")\n",
    "plt.ylabel(\"Loss\")\n",
    "plt.legend()\n",
    "plt.show()"
   ]
  },
  {
   "cell_type": "code",
   "execution_count": null,
   "metadata": {
    "execution": {
     "iopub.execute_input": "2025-06-27T14:06:21.531030Z",
     "iopub.status.busy": "2025-06-27T14:06:21.530510Z",
     "iopub.status.idle": "2025-06-27T14:06:22.124570Z",
     "shell.execute_reply": "2025-06-27T14:06:22.123851Z",
     "shell.execute_reply.started": "2025-06-27T14:06:21.531004Z"
    },
    "trusted": true
   },
   "outputs": [],
   "source": [
    "time_index = pd.to_datetime(test_scaled_df.index[lookback + forecast - 1:])\n",
    "time_index = time_index[:len(y_test)]\n",
    "\n",
    "y_pred = base_model.predict(X_test).squeeze()\n",
    "\n",
    "df_result = pd.DataFrame({\n",
    "    \"Time\": time_index,\n",
    "    \"Actual\": y_test,\n",
    "    \"Predicted\": y_pred\n",
    "})\n",
    "\n",
    "df_result.set_index(\"Time\", inplace=True)\n",
    "\n",
    "df_daily = df_result.resample(\"D\").mean()\n",
    "\n",
    "plt.figure(figsize=(12, 5))\n",
    "plt.plot(df_daily.index, df_daily[\"Actual\"], label=\"Daily Avg Actual AT\", linewidth=2)\n",
    "plt.plot(df_daily.index, df_daily[\"Predicted\"], label=\"Daily Avg Predicted AT\", linewidth=2)\n",
    "\n",
    "plt.title(\"Daily Average AT (degree C): Actual vs Predicted\")\n",
    "plt.xlabel(\"Date\")\n",
    "plt.ylabel(\"AT (degree C)\")\n",
    "plt.legend()\n",
    "plt.grid(True)\n",
    "plt.tight_layout()\n",
    "plt.show()"
   ]
  },
  {
   "cell_type": "markdown",
   "metadata": {},
   "source": [
    "## Tuned Model"
   ]
  },
  {
   "cell_type": "code",
   "execution_count": null,
   "metadata": {
    "execution": {
     "iopub.execute_input": "2025-06-27T13:47:26.640232Z",
     "iopub.status.busy": "2025-06-27T13:47:26.639921Z",
     "iopub.status.idle": "2025-06-27T13:47:26.654619Z",
     "shell.execute_reply": "2025-06-27T13:47:26.654049Z",
     "shell.execute_reply.started": "2025-06-27T13:47:26.640209Z"
    },
    "id": "dywkZQNW3YmM",
    "outputId": "2cc1f0c6-4089-43e5-b417-bfdc63cf3078",
    "trusted": true
   },
   "outputs": [],
   "source": [
    "modified_model = Sequential([\n",
    "\n",
    "    LSTM(10, return_sequences=True, recurrent_dropout=0.2),\n",
    "    BatchNormalization(),\n",
    "    LSTM(5, return_sequences= False),\n",
    "    BatchNormalization(),\n",
    "    \n",
    "    Dense(1, activation='linear')\n",
    "])"
   ]
  },
  {
   "cell_type": "code",
   "execution_count": null,
   "metadata": {
    "execution": {
     "iopub.execute_input": "2025-06-27T13:47:26.655663Z",
     "iopub.status.busy": "2025-06-27T13:47:26.655429Z",
     "iopub.status.idle": "2025-06-27T13:47:26.667395Z",
     "shell.execute_reply": "2025-06-27T13:47:26.666906Z",
     "shell.execute_reply.started": "2025-06-27T13:47:26.655642Z"
    },
    "id": "7e-HaZbX4s7n",
    "trusted": true
   },
   "outputs": [],
   "source": [
    "modified_model.compile(\n",
    "    optimizer=Adam(learning_rate=0.001),\n",
    "    loss='mse',\n",
    "    metrics=['mae']\n",
    ")"
   ]
  },
  {
   "cell_type": "code",
   "execution_count": null,
   "metadata": {
    "execution": {
     "iopub.execute_input": "2025-06-27T13:47:26.668172Z",
     "iopub.status.busy": "2025-06-27T13:47:26.667975Z",
     "iopub.status.idle": "2025-06-27T13:47:26.684744Z",
     "shell.execute_reply": "2025-06-27T13:47:26.684287Z",
     "shell.execute_reply.started": "2025-06-27T13:47:26.668157Z"
    },
    "trusted": true
   },
   "outputs": [],
   "source": [
    "callbacks = [\n",
    "    EarlyStopping(\n",
    "        monitor='val_loss',\n",
    "        patience=15,\n",
    "        restore_best_weights=True,\n",
    "        verbose=1\n",
    "    ),\n",
    "    ReduceLROnPlateau(\n",
    "        monitor='val_loss',\n",
    "        factor=0.5,\n",
    "        patience=8,\n",
    "        min_lr=1e-7,\n",
    "        verbose=1\n",
    "    ),\n",
    "    ModelCheckpoint(\n",
    "    filepath='/kaggle/working/.keras',\n",
    "    monitor='val_loss',\n",
    "    save_best_only=True,\n",
    "    mode='max',\n",
    "    save_weights_only=False,\n",
    "    verbose=1\n",
    "  )\n",
    "]"
   ]
  },
  {
   "cell_type": "code",
   "execution_count": null,
   "metadata": {
    "collapsed": true,
    "execution": {
     "iopub.execute_input": "2025-06-27T13:47:26.685575Z",
     "iopub.status.busy": "2025-06-27T13:47:26.685365Z",
     "iopub.status.idle": "2025-06-27T13:59:13.616875Z",
     "shell.execute_reply": "2025-06-27T13:59:13.616210Z",
     "shell.execute_reply.started": "2025-06-27T13:47:26.685553Z"
    },
    "id": "TV9jeJM98kEb",
    "jupyter": {
     "outputs_hidden": true
    },
    "outputId": "c68c3cdc-310d-4f33-b59c-2775cbe6df26",
    "trusted": true
   },
   "outputs": [],
   "source": [
    "history_modified = modified_model.fit(\n",
    "    X_train, y_train,\n",
    "    validation_data=(X_val, y_val),\n",
    "    epochs=30,\n",
    "    batch_size=32,\n",
    "    callbacks=callbacks,\n",
    "    verbose=1\n",
    ")"
   ]
  },
  {
   "cell_type": "code",
   "execution_count": null,
   "metadata": {
    "execution": {
     "iopub.execute_input": "2025-06-27T13:59:13.618283Z",
     "iopub.status.busy": "2025-06-27T13:59:13.618034Z",
     "iopub.status.idle": "2025-06-27T13:59:15.464767Z",
     "shell.execute_reply": "2025-06-27T13:59:15.463935Z",
     "shell.execute_reply.started": "2025-06-27T13:59:13.618265Z"
    },
    "id": "LJkRrQRv8wr6",
    "trusted": true
   },
   "outputs": [],
   "source": [
    "y_pred_modified = modified_model.predict(X_test)"
   ]
  },
  {
   "cell_type": "code",
   "execution_count": null,
   "metadata": {
    "execution": {
     "iopub.execute_input": "2025-06-27T13:59:15.466306Z",
     "iopub.status.busy": "2025-06-27T13:59:15.466038Z",
     "iopub.status.idle": "2025-06-27T13:59:15.474396Z",
     "shell.execute_reply": "2025-06-27T13:59:15.473669Z",
     "shell.execute_reply.started": "2025-06-27T13:59:15.466288Z"
    },
    "id": "9HiiPCcK80jl",
    "trusted": true
   },
   "outputs": [],
   "source": [
    "mse = mean_squared_error(y_test, y_pred_modified)\n",
    "rmse = np.sqrt(mse)\n",
    "mae = mean_absolute_error(y_test, y_pred_modified)\n",
    "r2 = r2_score(y_test, y_pred_modified)\n",
    "\n",
    "print(f\"MSE: {mse:.4f}\")\n",
    "print(f\"RMSE: {rmse:.4f}\")\n",
    "print(f\"MAE: {mae:.4f}\")\n",
    "print(f\"R²: {r2:.4f}\")"
   ]
  },
  {
   "cell_type": "code",
   "execution_count": null,
   "metadata": {
    "execution": {
     "iopub.execute_input": "2025-06-27T13:59:15.475477Z",
     "iopub.status.busy": "2025-06-27T13:59:15.475218Z",
     "iopub.status.idle": "2025-06-27T13:59:15.634456Z",
     "shell.execute_reply": "2025-06-27T13:59:15.633674Z",
     "shell.execute_reply.started": "2025-06-27T13:59:15.475454Z"
    },
    "id": "Z44CBIy9BXE5",
    "trusted": true
   },
   "outputs": [],
   "source": [
    "train_loss = history_modified.history['loss']\n",
    "val_loss = history_modified.history['val_loss']\n",
    "plt.plot(train_loss,label=\"Train Loss\")\n",
    "plt.plot(val_loss,label='Val Loss')\n",
    "plt.title(\"Gradient Descent\")\n",
    "plt.xlabel(\"Epoch\")\n",
    "plt.ylabel(\"Loss\")\n",
    "plt.legend()\n",
    "plt.show()"
   ]
  },
  {
   "cell_type": "code",
   "execution_count": null,
   "metadata": {
    "execution": {
     "iopub.execute_input": "2025-06-27T13:59:15.635326Z",
     "iopub.status.busy": "2025-06-27T13:59:15.635113Z",
     "iopub.status.idle": "2025-06-27T13:59:16.755765Z",
     "shell.execute_reply": "2025-06-27T13:59:16.755091Z",
     "shell.execute_reply.started": "2025-06-27T13:59:15.635311Z"
    },
    "trusted": true
   },
   "outputs": [],
   "source": [
    "time_index = pd.to_datetime(test_scaled_df.index[lookback + forecast - 1:])\n",
    "time_index = time_index[:len(y_test)]\n",
    "\n",
    "y_pred = modified_model.predict(X_test).squeeze()\n",
    "\n",
    "df_result = pd.DataFrame({\n",
    "    \"Time\": time_index,\n",
    "    \"Actual\": y_test,\n",
    "    \"Predicted\": y_pred\n",
    "})\n",
    "\n",
    "df_result.set_index(\"Time\", inplace=True)\n",
    "\n",
    "df_daily = df_result.resample(\"D\").mean()\n",
    "\n",
    "plt.figure(figsize=(12, 5))\n",
    "plt.plot(df_daily.index, df_daily[\"Actual\"], label=\"Daily Avg Actual AT\", linewidth=2)\n",
    "plt.plot(df_daily.index, df_daily[\"Predicted\"], label=\"Daily Avg Predicted AT\", linewidth=2)\n",
    "\n",
    "plt.title(\"Daily Average AT (degree C): Actual vs Predicted\")\n",
    "plt.xlabel(\"Date\")\n",
    "plt.ylabel(\"AT (degree C)\")\n",
    "plt.legend()\n",
    "plt.grid(True)\n",
    "plt.tight_layout()\n",
    "plt.show()"
   ]
  },
  {
   "cell_type": "markdown",
   "metadata": {},
   "source": [
    "# Kesimpulan"
   ]
  },
  {
   "cell_type": "markdown",
   "metadata": {},
   "source": [
    "Interpretasi: Dari Hasil kedua model diatas dapat kita simpulkan model modified tidak memiliki perbedaan kemampuan prediksi yang jauh bahkan bisa dibilang sama. Dari graph gradient descent kita dapat melihat bahwa model tidak dibilang overfit / underfit karena loss dari train dan validation sudah sangat dekat sehingga model ini cocok untuk melakukan forecasting. Kita juga dapat melihat perbandingan predicted data dan actual data pada line chart dimana predicted dan actual sudah sangat mendekati"
   ]
  },
  {
   "cell_type": "markdown",
   "metadata": {},
   "source": [
    "# Bonus"
   ]
  },
  {
   "cell_type": "markdown",
   "metadata": {},
   "source": [
    "Problem untuk Case sekarang bukanlah multivariate karena kita hanya menggunakan model LSTM untuk memprediksi satu fitur yaitu A, Problem ini bisa menjadi multivariate jika kita melakukan prediksi dengan banyak output seperti misalnya kita juga ingin memprediksi AT, CO, dan CO2 pada 1 jam kedepannya, jika seperti itu maka kita akan menggunakan multivariate time series.\n",
    "\n",
    "Menentukan relevansi fitur bisa menggunakan tes korelasi dengan menentukan p-value untuk mengetahui fitur apa saja yang penting, mencari korelasi seperti diatas dengan method pearson karena distribusi data kita anggap normal, dan tentunya butuh expert dalam topik tersebut.\n",
    "\n",
    "Secara simpelnya kita hanya menggunakan multivariate time series saat ingin memprediksi lebih dari satu fitur dimana pada case ini jika fitur-fitur tersebut relevan dan saling berhubungan maka kita dapat memprediksi banyak fitur dengan multivariate time series.\n",
    "\n"
   ]
  }
 ],
 "metadata": {
  "accelerator": "GPU",
  "colab": {
   "gpuType": "T4",
   "provenance": []
  },
  "kaggle": {
   "accelerator": "none",
   "dataSources": [
    {
     "datasetId": 7740988,
     "sourceId": 12283100,
     "sourceType": "datasetVersion"
    }
   ],
   "dockerImageVersionId": 31040,
   "isGpuEnabled": false,
   "isInternetEnabled": true,
   "language": "python",
   "sourceType": "notebook"
  },
  "kernelspec": {
   "display_name": "Python 3",
   "language": "python",
   "name": "python3"
  },
  "language_info": {
   "codemirror_mode": {
    "name": "ipython",
    "version": 3
   },
   "file_extension": ".py",
   "mimetype": "text/x-python",
   "name": "python",
   "nbconvert_exporter": "python",
   "pygments_lexer": "ipython3",
   "version": "3.11.11"
  }
 },
 "nbformat": 4,
 "nbformat_minor": 4
}
